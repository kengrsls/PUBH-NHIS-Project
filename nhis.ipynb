{
  "nbformat": 4,
  "nbformat_minor": 0,
  "metadata": {
    "colab": {
      "provenance": [],
      "mount_file_id": "1K1lWc_7tKqnC6gLqNmTOXzTRIjzjPn8p",
      "authorship_tag": "ABX9TyPV7bKN3+eNZrefmM6zNAJm",
      "include_colab_link": true
    },
    "kernelspec": {
      "name": "ir",
      "display_name": "R"
    },
    "language_info": {
      "name": "R"
    }
  },
  "cells": [
    {
      "cell_type": "markdown",
      "metadata": {
        "id": "view-in-github",
        "colab_type": "text"
      },
      "source": [
        "<a href=\"https://colab.research.google.com/github/kengrsls/PUBH-NHIS-Project/blob/main/nhis.ipynb\" target=\"_parent\"><img src=\"https://colab.research.google.com/assets/colab-badge.svg\" alt=\"Open In Colab\"/></a>"
      ]
    },
    {
      "cell_type": "code",
      "execution_count": null,
      "metadata": {
        "id": "Um2-CvDxG_UH"
      },
      "outputs": [],
      "source": []
    },
    {
      "cell_type": "code",
      "source": [
        "# Install packages if not already installed (uncomment if needed)\n",
        "# install.packages(\"tidyverse\")\n",
        "# install.packages(\"broom\")\n",
        "# install.packages(\"knitr\")\n",
        "\n",
        "# Load required libraries\n",
        "library(tidyverse)\n",
        "library(broom)\n",
        "library(knitr)\n",
        "\n",
        "# Load the dataset (ensure \"child22.csv\" is in your working directory)\n",
        "data <- read.csv(\"child22.csv\", stringsAsFactors = FALSE)\n",
        "\n",
        "# Convert variables to appropriate data types:\n",
        "# Outcome variable: convert VSLPA_C to a factor with meaningful labels\n",
        "data$VSLPA_C <- factor(data$VSLPA_C, levels = c(1,2), labels = c(\"Yes\", \"No\"))\n",
        "\n",
        "# Predictor: Food insecurity (FDSCAT3_C) assumed to be categorical\n",
        "data$FDSCAT3_C <- factor(data$FDSCAT3_C)\n",
        "\n",
        "# Predictor: Income from wages (INCWRKO_C) as a numeric variable\n",
        "data$INCWRKO_C <- as.numeric(data$INCWRKO_C)\n",
        "\n",
        "# Predictor: Ethnicity (HISP_C) coded as 1 = Yes, 2 = No\n",
        "data$HISP_C <- factor(data$HISP_C, levels = c(1,2), labels = c(\"Hispanic\", \"Non-Hispanic\"))\n",
        "\n",
        "# Run logistic regression: predicting receipt of ST therapy services (VSLPA_C)\n",
        "# from food insecurity, income, and ethnicity\n",
        "model <- glm(VSLPA_C ~ FDSCAT3_C + INCWRKO_C + HISP_C, data = data, family = binomial)\n",
        "\n",
        "# Display a summary of the model\n",
        "summary(model)\n",
        "\n",
        "# Tidy the model output, exponentiating coefficients to yield odds ratios,\n",
        "# and including confidence intervals\n",
        "tidy_model <- broom::tidy(model, exponentiate = TRUE, conf.int = TRUE)\n",
        "\n",
        "# View the tidy model results\n",
        "print(tidy_model)\n",
        "\n",
        "# Create a nicely formatted table using knitr::kable\n",
        "kable(tidy_model, digits = 3, caption = \"Logistic Regression Results: Predicting Receipt of ST Therapy Services\")\n"
      ],
      "metadata": {
        "colab": {
          "base_uri": "https://localhost:8080/",
          "height": 937
        },
        "id": "amWT0iDuSrcR",
        "outputId": "57a3d6d8-e1ce-4317-9c17-50589a115710"
      },
      "execution_count": null,
      "outputs": [
        {
          "output_type": "display_data",
          "data": {
            "text/plain": [
              "\n",
              "Call:\n",
              "glm(formula = VSLPA_C ~ FDSCAT3_C + INCWRKO_C + HISP_C, family = binomial, \n",
              "    data = data)\n",
              "\n",
              "Coefficients:\n",
              "                   Estimate Std. Error z value Pr(>|z|)   \n",
              "(Intercept)         0.84712    0.28624   2.959  0.00308 **\n",
              "FDSCAT3_C2          0.33755    0.30217   1.117  0.26396   \n",
              "FDSCAT3_C3         -0.11222    0.28186  -0.398  0.69053   \n",
              "FDSCAT3_C8          0.40326    1.99524   0.202  0.83983   \n",
              "INCWRKO_C          -0.23781    0.22705  -1.047  0.29493   \n",
              "HISP_CNon-Hispanic -0.06179    0.17613  -0.351  0.72571   \n",
              "---\n",
              "Signif. codes:  0 ‘***’ 0.001 ‘**’ 0.01 ‘*’ 0.05 ‘.’ 0.1 ‘ ’ 1\n",
              "\n",
              "(Dispersion parameter for binomial family taken to be 1)\n",
              "\n",
              "    Null deviance: 971.13  on 739  degrees of freedom\n",
              "Residual deviance: 967.11  on 734  degrees of freedom\n",
              "  (6724 observations deleted due to missingness)\n",
              "AIC: 979.11\n",
              "\n",
              "Number of Fisher Scoring iterations: 4\n"
            ]
          },
          "metadata": {}
        },
        {
          "output_type": "stream",
          "name": "stdout",
          "text": [
            "\u001b[90m# A tibble: 6 × 7\u001b[39m\n",
            "  term               estimate std.error statistic p.value conf.low conf.high\n",
            "  \u001b[3m\u001b[90m<chr>\u001b[39m\u001b[23m                 \u001b[3m\u001b[90m<dbl>\u001b[39m\u001b[23m     \u001b[3m\u001b[90m<dbl>\u001b[39m\u001b[23m     \u001b[3m\u001b[90m<dbl>\u001b[39m\u001b[23m   \u001b[3m\u001b[90m<dbl>\u001b[39m\u001b[23m    \u001b[3m\u001b[90m<dbl>\u001b[39m\u001b[23m     \u001b[3m\u001b[90m<dbl>\u001b[39m\u001b[23m\n",
            "\u001b[90m1\u001b[39m (Intercept)           2.33      0.286     2.96  0.003\u001b[4m0\u001b[24m\u001b[4m8\u001b[24m   1.34        4.20\n",
            "\u001b[90m2\u001b[39m FDSCAT3_C2            1.40      0.302     1.12  0.264     0.788       2.60\n",
            "\u001b[90m3\u001b[39m FDSCAT3_C3            0.894     0.282    -\u001b[31m0\u001b[39m\u001b[31m.\u001b[39m\u001b[31m398\u001b[39m 0.691     0.518       1.57\n",
            "\u001b[90m4\u001b[39m FDSCAT3_C8            1.50      2.00      0.202 0.840     0.024\u001b[4m2\u001b[24m     82.8 \n",
            "\u001b[90m5\u001b[39m INCWRKO_C             0.788     0.227    -\u001b[31m1\u001b[39m\u001b[31m.\u001b[39m\u001b[31m0\u001b[39m\u001b[31m5\u001b[39m  0.295     0.488       1.22\n",
            "\u001b[90m6\u001b[39m HISP_CNon-Hispanic    0.940     0.176    -\u001b[31m0\u001b[39m\u001b[31m.\u001b[39m\u001b[31m351\u001b[39m 0.726     0.664       1.32\n"
          ]
        },
        {
          "output_type": "display_data",
          "data": {
            "text/plain": [
              "\n",
              "\n",
              "Table: Logistic Regression Results: Predicting Receipt of ST Therapy Services\n",
              "\n",
              "|term               | estimate| std.error| statistic| p.value| conf.low| conf.high|\n",
              "|:------------------|--------:|---------:|---------:|-------:|--------:|---------:|\n",
              "|(Intercept)        |    2.333|     0.286|     2.959|   0.003|    1.343|     4.203|\n",
              "|FDSCAT3_C2         |    1.402|     0.302|     1.117|   0.264|    0.788|     2.595|\n",
              "|FDSCAT3_C3         |    0.894|     0.282|    -0.398|   0.691|    0.518|     1.571|\n",
              "|FDSCAT3_C8         |    1.497|     1.995|     0.202|   0.840|    0.024|    82.760|\n",
              "|INCWRKO_C          |    0.788|     0.227|    -1.047|   0.295|    0.488|     1.224|\n",
              "|HISP_CNon-Hispanic |    0.940|     0.176|    -0.351|   0.726|    0.664|     1.325|"
            ]
          },
          "metadata": {}
        }
      ]
    },
    {
      "cell_type": "code",
      "source": [
        "# Install and load required packages if needed\n",
        "# install.packages(\"tidyverse\")\n",
        "library(tidyverse)\n",
        "\n",
        "# Load the dataset (ensure \"child22.csv\" is in your working directory)\n",
        "data <- read.csv(\"child22.csv\", stringsAsFactors = FALSE)\n",
        "\n",
        "# Recode and rename variables with descriptive names:\n",
        "data <- data %>%\n",
        "  # Rename the original columns for clarity\n",
        "  rename(FoodInsecurity_Orig = FDSCAT3_C,\n",
        "         FoodAccessDifficulty_Orig = FDSCAT4_C,\n",
        "         Income_Wages_Orig = INCWRKO_C,\n",
        "         Ethnicity_Orig = HISP_C,\n",
        "         ST_Therapy_Orig = VSLPA_C) %>%\n",
        "  # Create new recoded variables with descriptive names\n",
        "  mutate(\n",
        "    # Recode Food Insecurity (assumed original coding: 1=high, 2=moderate, 3=mild, 4=none)\n",
        "    FoodInsecurity = factor(FoodInsecurity_Orig,\n",
        "                            levels = c(1, 2, 3, 4),\n",
        "                            labels = c(\"High Food Insecurity\",\n",
        "                                       \"Moderate Food Insecurity\",\n",
        "                                       \"Mild Food Insecurity\",\n",
        "                                       \"No Food Insecurity\")),\n",
        "    # Recode Food Access Difficulty (assumed original coding: 1=Very Difficult, 2=Somewhat Difficult, 3=Not Very Difficult, 4=Not At All Difficult)\n",
        "    FoodAccessDifficulty = factor(FoodAccessDifficulty_Orig,\n",
        "                                  levels = c(1, 2, 3, 4),\n",
        "                                  labels = c(\"Very Difficult\",\n",
        "                                             \"Somewhat Difficult\",\n",
        "                                             \"Not Very Difficult\",\n",
        "                                             \"Not At All Difficult\")),\n",
        "    # Convert Income from Wages to numeric and recode into income groups\n",
        "    Income_Wages = as.numeric(Income_Wages_Orig),\n",
        "    Income_Group = cut(Income_Wages,\n",
        "                       breaks = c(0, 20000, 40000, 60000, Inf),\n",
        "                       labels = c(\"Low Income\",\n",
        "                                  \"Lower-Middle Income\",\n",
        "                                  \"Upper-Middle Income\",\n",
        "                                  \"High Income\"),\n",
        "                       right = FALSE),\n",
        "    # Recode Ethnicity (assumed coding: 1 = Hispanic, 2 = Non-Hispanic)\n",
        "    Ethnicity = factor(Ethnicity_Orig,\n",
        "                       levels = c(1, 2),\n",
        "                       labels = c(\"Hispanic\", \"Non-Hispanic\")),\n",
        "    # Recode ST Therapy Services (assumed coding: 1 = Yes, 2 = No)\n",
        "    ST_Therapy = factor(ST_Therapy_Orig,\n",
        "                        levels = c(1, 2),\n",
        "                        labels = c(\"Received ST Therapy\", \"Did Not Receive ST Therapy\"))\n",
        "  )\n",
        "\n",
        "# Optional: check summaries of the new recoded variables\n",
        "summary(data$FoodInsecurity)\n",
        "summary(data$FoodAccessDifficulty)\n",
        "summary(data$Income_Group)\n",
        "summary(data$Ethnicity)\n",
        "summary(data$ST_Therapy)\n"
      ],
      "metadata": {
        "colab": {
          "base_uri": "https://localhost:8080/",
          "height": 156
        },
        "id": "BGSTImL7y1xH",
        "outputId": "1bfbe5b7-97af-4cc8-a99d-2ff8622ce428"
      },
      "execution_count": null,
      "outputs": [
        {
          "output_type": "display_data",
          "data": {
            "text/html": [
              "<style>\n",
              ".dl-inline {width: auto; margin:0; padding: 0}\n",
              ".dl-inline>dt, .dl-inline>dd {float: none; width: auto; display: inline-block}\n",
              ".dl-inline>dt::after {content: \":\\0020\"; padding-right: .5ex}\n",
              ".dl-inline>dt:not(:first-of-type) {padding-left: .5ex}\n",
              "</style><dl class=dl-inline><dt>High Food Insecurity</dt><dd>6624</dd><dt>Moderate Food Insecurity</dt><dd>416</dd><dt>Mild Food Insecurity</dt><dd>263</dd><dt>No Food Insecurity</dt><dd>0</dd><dt>NA's</dt><dd>161</dd></dl>\n"
            ],
            "text/markdown": "High Food Insecurity\n:   6624Moderate Food Insecurity\n:   416Mild Food Insecurity\n:   263No Food Insecurity\n:   0NA's\n:   161\n\n",
            "text/latex": "\\begin{description*}\n\\item[High Food Insecurity] 6624\n\\item[Moderate Food Insecurity] 416\n\\item[Mild Food Insecurity] 263\n\\item[No Food Insecurity] 0\n\\item[NA's] 161\n\\end{description*}\n",
            "text/plain": [
              "    High Food Insecurity Moderate Food Insecurity     Mild Food Insecurity \n",
              "                    6624                      416                      263 \n",
              "      No Food Insecurity                     NA's \n",
              "                       0                      161 "
            ]
          },
          "metadata": {}
        },
        {
          "output_type": "display_data",
          "data": {
            "text/html": [
              "<style>\n",
              ".dl-inline {width: auto; margin:0; padding: 0}\n",
              ".dl-inline>dt, .dl-inline>dd {float: none; width: auto; display: inline-block}\n",
              ".dl-inline>dt::after {content: \":\\0020\"; padding-right: .5ex}\n",
              ".dl-inline>dt:not(:first-of-type) {padding-left: .5ex}\n",
              "</style><dl class=dl-inline><dt>Very Difficult</dt><dd>6039</dd><dt>Somewhat Difficult</dt><dd>585</dd><dt>Not Very Difficult</dt><dd>416</dd><dt>Not At All Difficult</dt><dd>263</dd><dt>NA's</dt><dd>161</dd></dl>\n"
            ],
            "text/markdown": "Very Difficult\n:   6039Somewhat Difficult\n:   585Not Very Difficult\n:   416Not At All Difficult\n:   263NA's\n:   161\n\n",
            "text/latex": "\\begin{description*}\n\\item[Very Difficult] 6039\n\\item[Somewhat Difficult] 585\n\\item[Not Very Difficult] 416\n\\item[Not At All Difficult] 263\n\\item[NA's] 161\n\\end{description*}\n",
            "text/plain": [
              "      Very Difficult   Somewhat Difficult   Not Very Difficult \n",
              "                6039                  585                  416 \n",
              "Not At All Difficult                 NA's \n",
              "                 263                  161 "
            ]
          },
          "metadata": {}
        },
        {
          "output_type": "display_data",
          "data": {
            "text/html": [
              "<style>\n",
              ".dl-inline {width: auto; margin:0; padding: 0}\n",
              ".dl-inline>dt, .dl-inline>dd {float: none; width: auto; display: inline-block}\n",
              ".dl-inline>dt::after {content: \":\\0020\"; padding-right: .5ex}\n",
              ".dl-inline>dt:not(:first-of-type) {padding-left: .5ex}\n",
              "</style><dl class=dl-inline><dt>Low Income</dt><dd>7464</dd><dt>Lower-Middle Income</dt><dd>0</dd><dt>Upper-Middle Income</dt><dd>0</dd><dt>High Income</dt><dd>0</dd></dl>\n"
            ],
            "text/markdown": "Low Income\n:   7464Lower-Middle Income\n:   0Upper-Middle Income\n:   0High Income\n:   0\n\n",
            "text/latex": "\\begin{description*}\n\\item[Low Income] 7464\n\\item[Lower-Middle Income] 0\n\\item[Upper-Middle Income] 0\n\\item[High Income] 0\n\\end{description*}\n",
            "text/plain": [
              "         Low Income Lower-Middle Income Upper-Middle Income         High Income \n",
              "               7464                   0                   0                   0 "
            ]
          },
          "metadata": {}
        },
        {
          "output_type": "display_data",
          "data": {
            "text/html": [
              "<style>\n",
              ".dl-inline {width: auto; margin:0; padding: 0}\n",
              ".dl-inline>dt, .dl-inline>dd {float: none; width: auto; display: inline-block}\n",
              ".dl-inline>dt::after {content: \":\\0020\"; padding-right: .5ex}\n",
              ".dl-inline>dt:not(:first-of-type) {padding-left: .5ex}\n",
              "</style><dl class=dl-inline><dt>Hispanic</dt><dd>1967</dd><dt>Non-Hispanic</dt><dd>5497</dd></dl>\n"
            ],
            "text/markdown": "Hispanic\n:   1967Non-Hispanic\n:   5497\n\n",
            "text/latex": "\\begin{description*}\n\\item[Hispanic] 1967\n\\item[Non-Hispanic] 5497\n\\end{description*}\n",
            "text/plain": [
              "    Hispanic Non-Hispanic \n",
              "        1967         5497 "
            ]
          },
          "metadata": {}
        },
        {
          "output_type": "display_data",
          "data": {
            "text/html": [
              "<style>\n",
              ".dl-inline {width: auto; margin:0; padding: 0}\n",
              ".dl-inline>dt, .dl-inline>dd {float: none; width: auto; display: inline-block}\n",
              ".dl-inline>dt::after {content: \":\\0020\"; padding-right: .5ex}\n",
              ".dl-inline>dt:not(:first-of-type) {padding-left: .5ex}\n",
              "</style><dl class=dl-inline><dt>Received ST Therapy</dt><dd>270</dd><dt>Did Not Receive ST Therapy</dt><dd>470</dd><dt>NA's</dt><dd>6724</dd></dl>\n"
            ],
            "text/markdown": "Received ST Therapy\n:   270Did Not Receive ST Therapy\n:   470NA's\n:   6724\n\n",
            "text/latex": "\\begin{description*}\n\\item[Received ST Therapy] 270\n\\item[Did Not Receive ST Therapy] 470\n\\item[NA's] 6724\n\\end{description*}\n",
            "text/plain": [
              "       Received ST Therapy Did Not Receive ST Therapy \n",
              "                       270                        470 \n",
              "                      NA's \n",
              "                      6724 "
            ]
          },
          "metadata": {}
        }
      ]
    },
    {
      "cell_type": "code",
      "source": [
        "# Load required library\n",
        "library(tidyverse)\n",
        "\n",
        "# Load your dataset (ensure \"child22.csv\" is uploaded to your working directory)\n",
        "data <- read.csv(\"child22.csv\", stringsAsFactors = FALSE)\n",
        "\n",
        "# Rename original variables for clarity and create new recoded variables\n",
        "data <- data %>%\n",
        "  # Rename original columns (keeping the originals for reference)\n",
        "  rename(\n",
        "    FoodInsecurity_Orig = FDSCAT3_C,\n",
        "    FoodAccessDifficulty_Orig = FDSCAT4_C,\n",
        "    Income_Wages_Orig = INCWRKO_C,\n",
        "    Ethnicity_Orig = HISP_C,\n",
        "    ST_Therapy_Orig = VSLPA_C\n",
        "  ) %>%\n",
        "  mutate(\n",
        "    # Recode Food Insecurity: assuming original coding is 1=High, 2=Moderate, 3=Mild, 4=None\n",
        "    FoodInsecurity = factor(FoodInsecurity_Orig,\n",
        "                            levels = c(1, 2, 3, 4),\n",
        "                            labels = c(\"High Food Insecurity\",\n",
        "                                       \"Moderate Food Insecurity\",\n",
        "                                       \"Mild Food Insecurity\",\n",
        "                                       \"No Food Insecurity\")),\n",
        "    # Recode Food Access Difficulty: assuming original coding is 1=Very Difficult, 2=Somewhat Difficult, 3=Not Very Difficult, 4=Not At All Difficult\n",
        "    FoodAccessDifficulty = factor(FoodAccessDifficulty_Orig,\n",
        "                                  levels = c(1, 2, 3, 4),\n",
        "                                  labels = c(\"Very Difficult\",\n",
        "                                             \"Somewhat Difficult\",\n",
        "                                             \"Not Very Difficult\",\n",
        "                                             \"Not At All Difficult\")),\n",
        "    # Convert Income from Wages to numeric (if not already) and recode into income groups\n",
        "    Income_Wages = as.numeric(Income_Wages_Orig),\n",
        "    Income_Group = cut(Income_Wages,\n",
        "                       breaks = c(0, 20000, 40000, 60000, Inf),\n",
        "                       labels = c(\"Low Income\",\n",
        "                                  \"Lower-Middle Income\",\n",
        "                                  \"Upper-Middle Income\",\n",
        "                                  \"High Income\"),\n",
        "                       right = FALSE),\n",
        "    # Recode Ethnicity: original coding 1 = Hispanic, 2 = Non-Hispanic\n",
        "    Ethnicity = factor(Ethnicity_Orig,\n",
        "                       levels = c(1, 2),\n",
        "                       labels = c(\"Hispanic\", \"Non-Hispanic\")),\n",
        "    # Recode ST Therapy Services: original coding 1 = Yes, 2 = No\n",
        "    ST_Therapy = factor(ST_Therapy_Orig,\n",
        "                        levels = c(1, 2),\n",
        "                        labels = c(\"Received ST Therapy\", \"Did Not Receive ST Therapy\"))\n",
        "  )\n",
        "\n",
        "# Optional: Print summaries to verify recoding\n",
        "summary(data$FoodInsecurity)\n",
        "summary(data$FoodAccessDifficulty)\n",
        "summary(data$Income_Group)\n",
        "summary(data$Ethnicity)\n",
        "summary(data$ST_Therapy)\n"
      ],
      "metadata": {
        "colab": {
          "base_uri": "https://localhost:8080/",
          "height": 156
        },
        "id": "A6tnSgkJzqXW",
        "outputId": "51ce6dcb-3c37-4b00-d6ce-1a32a0b372e4"
      },
      "execution_count": null,
      "outputs": [
        {
          "output_type": "display_data",
          "data": {
            "text/html": [
              "<style>\n",
              ".dl-inline {width: auto; margin:0; padding: 0}\n",
              ".dl-inline>dt, .dl-inline>dd {float: none; width: auto; display: inline-block}\n",
              ".dl-inline>dt::after {content: \":\\0020\"; padding-right: .5ex}\n",
              ".dl-inline>dt:not(:first-of-type) {padding-left: .5ex}\n",
              "</style><dl class=dl-inline><dt>High Food Insecurity</dt><dd>6624</dd><dt>Moderate Food Insecurity</dt><dd>416</dd><dt>Mild Food Insecurity</dt><dd>263</dd><dt>No Food Insecurity</dt><dd>0</dd><dt>NA's</dt><dd>161</dd></dl>\n"
            ],
            "text/markdown": "High Food Insecurity\n:   6624Moderate Food Insecurity\n:   416Mild Food Insecurity\n:   263No Food Insecurity\n:   0NA's\n:   161\n\n",
            "text/latex": "\\begin{description*}\n\\item[High Food Insecurity] 6624\n\\item[Moderate Food Insecurity] 416\n\\item[Mild Food Insecurity] 263\n\\item[No Food Insecurity] 0\n\\item[NA's] 161\n\\end{description*}\n",
            "text/plain": [
              "    High Food Insecurity Moderate Food Insecurity     Mild Food Insecurity \n",
              "                    6624                      416                      263 \n",
              "      No Food Insecurity                     NA's \n",
              "                       0                      161 "
            ]
          },
          "metadata": {}
        },
        {
          "output_type": "display_data",
          "data": {
            "text/html": [
              "<style>\n",
              ".dl-inline {width: auto; margin:0; padding: 0}\n",
              ".dl-inline>dt, .dl-inline>dd {float: none; width: auto; display: inline-block}\n",
              ".dl-inline>dt::after {content: \":\\0020\"; padding-right: .5ex}\n",
              ".dl-inline>dt:not(:first-of-type) {padding-left: .5ex}\n",
              "</style><dl class=dl-inline><dt>Very Difficult</dt><dd>6039</dd><dt>Somewhat Difficult</dt><dd>585</dd><dt>Not Very Difficult</dt><dd>416</dd><dt>Not At All Difficult</dt><dd>263</dd><dt>NA's</dt><dd>161</dd></dl>\n"
            ],
            "text/markdown": "Very Difficult\n:   6039Somewhat Difficult\n:   585Not Very Difficult\n:   416Not At All Difficult\n:   263NA's\n:   161\n\n",
            "text/latex": "\\begin{description*}\n\\item[Very Difficult] 6039\n\\item[Somewhat Difficult] 585\n\\item[Not Very Difficult] 416\n\\item[Not At All Difficult] 263\n\\item[NA's] 161\n\\end{description*}\n",
            "text/plain": [
              "      Very Difficult   Somewhat Difficult   Not Very Difficult \n",
              "                6039                  585                  416 \n",
              "Not At All Difficult                 NA's \n",
              "                 263                  161 "
            ]
          },
          "metadata": {}
        },
        {
          "output_type": "display_data",
          "data": {
            "text/html": [
              "<style>\n",
              ".dl-inline {width: auto; margin:0; padding: 0}\n",
              ".dl-inline>dt, .dl-inline>dd {float: none; width: auto; display: inline-block}\n",
              ".dl-inline>dt::after {content: \":\\0020\"; padding-right: .5ex}\n",
              ".dl-inline>dt:not(:first-of-type) {padding-left: .5ex}\n",
              "</style><dl class=dl-inline><dt>Low Income</dt><dd>7464</dd><dt>Lower-Middle Income</dt><dd>0</dd><dt>Upper-Middle Income</dt><dd>0</dd><dt>High Income</dt><dd>0</dd></dl>\n"
            ],
            "text/markdown": "Low Income\n:   7464Lower-Middle Income\n:   0Upper-Middle Income\n:   0High Income\n:   0\n\n",
            "text/latex": "\\begin{description*}\n\\item[Low Income] 7464\n\\item[Lower-Middle Income] 0\n\\item[Upper-Middle Income] 0\n\\item[High Income] 0\n\\end{description*}\n",
            "text/plain": [
              "         Low Income Lower-Middle Income Upper-Middle Income         High Income \n",
              "               7464                   0                   0                   0 "
            ]
          },
          "metadata": {}
        },
        {
          "output_type": "display_data",
          "data": {
            "text/html": [
              "<style>\n",
              ".dl-inline {width: auto; margin:0; padding: 0}\n",
              ".dl-inline>dt, .dl-inline>dd {float: none; width: auto; display: inline-block}\n",
              ".dl-inline>dt::after {content: \":\\0020\"; padding-right: .5ex}\n",
              ".dl-inline>dt:not(:first-of-type) {padding-left: .5ex}\n",
              "</style><dl class=dl-inline><dt>Hispanic</dt><dd>1967</dd><dt>Non-Hispanic</dt><dd>5497</dd></dl>\n"
            ],
            "text/markdown": "Hispanic\n:   1967Non-Hispanic\n:   5497\n\n",
            "text/latex": "\\begin{description*}\n\\item[Hispanic] 1967\n\\item[Non-Hispanic] 5497\n\\end{description*}\n",
            "text/plain": [
              "    Hispanic Non-Hispanic \n",
              "        1967         5497 "
            ]
          },
          "metadata": {}
        },
        {
          "output_type": "display_data",
          "data": {
            "text/html": [
              "<style>\n",
              ".dl-inline {width: auto; margin:0; padding: 0}\n",
              ".dl-inline>dt, .dl-inline>dd {float: none; width: auto; display: inline-block}\n",
              ".dl-inline>dt::after {content: \":\\0020\"; padding-right: .5ex}\n",
              ".dl-inline>dt:not(:first-of-type) {padding-left: .5ex}\n",
              "</style><dl class=dl-inline><dt>Received ST Therapy</dt><dd>270</dd><dt>Did Not Receive ST Therapy</dt><dd>470</dd><dt>NA's</dt><dd>6724</dd></dl>\n"
            ],
            "text/markdown": "Received ST Therapy\n:   270Did Not Receive ST Therapy\n:   470NA's\n:   6724\n\n",
            "text/latex": "\\begin{description*}\n\\item[Received ST Therapy] 270\n\\item[Did Not Receive ST Therapy] 470\n\\item[NA's] 6724\n\\end{description*}\n",
            "text/plain": [
              "       Received ST Therapy Did Not Receive ST Therapy \n",
              "                       270                        470 \n",
              "                      NA's \n",
              "                      6724 "
            ]
          },
          "metadata": {}
        }
      ]
    },
    {
      "cell_type": "code",
      "source": [
        "write.csv(data, file = \"child22recoded.csv\", row.names = FALSE)\n"
      ],
      "metadata": {
        "id": "XwlFBpkx1KDd"
      },
      "execution_count": null,
      "outputs": []
    },
    {
      "source": [
        "import csv"
      ],
      "cell_type": "code",
      "metadata": {
        "colab": {
          "base_uri": "https://localhost:8080/",
          "height": 106
        },
        "id": "k1KEME17KjzS",
        "outputId": "42ee3908-77e6-4e53-ee0b-b38fbf544bcc"
      },
      "execution_count": null,
      "outputs": [
        {
          "output_type": "error",
          "ename": "ERROR",
          "evalue": "Error in parse(text = input): <text>:1:8: unexpected symbol\n1: import csv\n           ^\n",
          "traceback": [
            "Error in parse(text = input): <text>:1:8: unexpected symbol\n1: import csv\n           ^\nTraceback:\n"
          ]
        }
      ]
    },
    {
      "source": [
        "with open('child22.csv', 'r') as file:\n",
        "  reader = csv.reader(file)\n",
        "  # Process the data here"
      ],
      "cell_type": "code",
      "metadata": {
        "colab": {
          "base_uri": "https://localhost:8080/",
          "height": 106
        },
        "id": "Iy2EgLvRKvaS",
        "outputId": "9a4be12d-1593-44d4-cc70-b1e15b62c107"
      },
      "execution_count": null,
      "outputs": [
        {
          "output_type": "error",
          "ename": "ERROR",
          "evalue": "Error in parse(text = input): <text>:1:6: unexpected symbol\n1: with open\n         ^\n",
          "traceback": [
            "Error in parse(text = input): <text>:1:6: unexpected symbol\n1: with open\n         ^\nTraceback:\n"
          ]
        }
      ]
    },
    {
      "source": [
        "import csv\n",
        "\n",
        "with open('child22.csv', 'r') as file:\n",
        "    reader = csv.reader(file)\n",
        "    # Process the data here\n",
        "\n",
        "    # Example: Print the first row\n",
        "    for row in reader:\n",
        "        print(row)\n",
        "        break  # Stop after printing the first row"
      ],
      "cell_type": "code",
      "metadata": {
        "colab": {
          "base_uri": "https://localhost:8080/",
          "height": 106
        },
        "id": "F1gN2_BxLATC",
        "outputId": "00553561-146e-4e2a-a9f5-ac244b10e845"
      },
      "execution_count": null,
      "outputs": [
        {
          "output_type": "error",
          "ename": "ERROR",
          "evalue": "Error in parse(text = input): <text>:1:8: unexpected symbol\n1: import csv\n           ^\n",
          "traceback": [
            "Error in parse(text = input): <text>:1:8: unexpected symbol\n1: import csv\n           ^\nTraceback:\n"
          ]
        }
      ]
    },
    {
      "source": [
        "# Install the readr package if you haven't already\n",
        "if (!require(\"readr\")) {\n",
        "  install.packages(\"readr\")\n",
        "}\n",
        "\n",
        "# Load the readr library\n",
        "library(readr)\n",
        "\n",
        "# Read the CSV file\n",
        "df <- read_csv(\"child22.csv\")\n",
        "\n",
        "# Process the data here\n",
        "# Example: print the first 5 rows\n",
        "print(head(df, 5))"
      ],
      "cell_type": "code",
      "metadata": {
        "colab": {
          "base_uri": "https://localhost:8080/"
        },
        "id": "1nHannKKLWhl",
        "outputId": "66a29dae-fe14-4399-d8e7-a92c5593f538"
      },
      "execution_count": null,
      "outputs": [
        {
          "output_type": "stream",
          "name": "stderr",
          "text": [
            "Warning message:\n",
            "“\u001b[1m\u001b[22mOne or more parsing issues, call `problems()` on your data frame for details,\n",
            "e.g.:\n",
            "  dat <- vroom(...)\n",
            "  problems(dat)”\n",
            "\u001b[1mRows: \u001b[22m\u001b[34m7464\u001b[39m \u001b[1mColumns: \u001b[22m\u001b[34m432\u001b[39m\n",
            "\u001b[36m──\u001b[39m \u001b[1mColumn specification\u001b[22m \u001b[36m────────────────────────────────────────────────────────\u001b[39m\n",
            "\u001b[1mDelimiter:\u001b[22m \",\"\n",
            "\u001b[31mchr\u001b[39m   (1): HHX\n",
            "\u001b[32mdbl\u001b[39m (423): URBRRL, RATCAT_C, INCTCFLG_C, IMPINCFLG_C, PPSU, PSTRAT, HISPALLP...\n",
            "\u001b[33mlgl\u001b[39m   (8): OGFLGR_C, OGHDHPR_C, OPFLG_C, CHFLG_C, MAFLG_C, PRPLCOV2_C, EQWLK...\n",
            "\n",
            "\u001b[36mℹ\u001b[39m Use `spec()` to retrieve the full column specification for this data.\n",
            "\u001b[36mℹ\u001b[39m Specify the column types or set `show_col_types = FALSE` to quiet this message.\n"
          ]
        },
        {
          "output_type": "stream",
          "name": "stdout",
          "text": [
            "\u001b[90m# A tibble: 5 × 432\u001b[39m\n",
            "  URBRRL RATCAT_C INCTCFLG_C IMPINCFLG_C  PPSU PSTRAT HISPALLP_C RACEALLP_C\n",
            "   \u001b[3m\u001b[90m<dbl>\u001b[39m\u001b[23m    \u001b[3m\u001b[90m<dbl>\u001b[39m\u001b[23m      \u001b[3m\u001b[90m<dbl>\u001b[39m\u001b[23m       \u001b[3m\u001b[90m<dbl>\u001b[39m\u001b[23m \u001b[3m\u001b[90m<dbl>\u001b[39m\u001b[23m  \u001b[3m\u001b[90m<dbl>\u001b[39m\u001b[23m      \u001b[3m\u001b[90m<dbl>\u001b[39m\u001b[23m      \u001b[3m\u001b[90m<dbl>\u001b[39m\u001b[23m\n",
            "\u001b[90m1\u001b[39m      1       14          1           0     2    115          2          1\n",
            "\u001b[90m2\u001b[39m      4        4          0           0     3    122          2          1\n",
            "\u001b[90m3\u001b[39m      3       11          0           0     1    103          3          2\n",
            "\u001b[90m4\u001b[39m      3       13          0           0     4    103          3          2\n",
            "\u001b[90m5\u001b[39m      3        2          0           0     2    103          3          2\n",
            "\u001b[90m# ℹ 424 more variables: SDQIMPTOT_C <dbl>, SDQTOT_C <dbl>, SDQPROS_C <dbl>,\u001b[39m\n",
            "\u001b[90m#   SDQPEER_C <dbl>, SDQHYPE_C <dbl>, SDQCOND_C <dbl>, SDQEMOT_C <dbl>,\u001b[39m\n",
            "\u001b[90m#   SCHDYMSSTC_C <dbl>, AFNOW <dbl>, YRSINUS_C <dbl>, CITZNSTP_C <dbl>,\u001b[39m\n",
            "\u001b[90m#   HHRESPSC_FLG <dbl>, PCNTADTWFP_C <dbl>, PCNTADTWKP_C <dbl>,\u001b[39m\n",
            "\u001b[90m#   FDSCAT4_C <dbl>, FDSCAT3_C <dbl>, RELTIVP_C <dbl>, URGNT12MTC_C <dbl>,\u001b[39m\n",
            "\u001b[90m#   EMERG12MTC_C <dbl>, PCNT18UPTC <dbl>, PCNTLT18TC <dbl>, PCNTPARNTS_C <dbl>,\u001b[39m\n",
            "\u001b[90m#   PARWKFT2_C <dbl>, PARWKFT1_C <dbl>, PARWORK2_C <dbl>, PARWORK1_C <dbl>, …\u001b[39m\n"
          ]
        }
      ]
    },
    {
      "cell_type": "code",
      "source": [
        "dim(df)"
      ],
      "metadata": {
        "colab": {
          "base_uri": "https://localhost:8080/",
          "height": 34
        },
        "id": "FpVyyH2NN8z4",
        "outputId": "99bf8fd3-a29e-4d7c-b11e-400d2be27653"
      },
      "execution_count": null,
      "outputs": [
        {
          "output_type": "display_data",
          "data": {
            "text/html": [
              "<style>\n",
              ".list-inline {list-style: none; margin:0; padding: 0}\n",
              ".list-inline>li {display: inline-block}\n",
              ".list-inline>li:not(:last-child)::after {content: \"\\00b7\"; padding: 0 .5ex}\n",
              "</style>\n",
              "<ol class=list-inline><li>7464</li><li>432</li></ol>\n"
            ],
            "text/markdown": "1. 7464\n2. 432\n\n\n",
            "text/latex": "\\begin{enumerate*}\n\\item 7464\n\\item 432\n\\end{enumerate*}\n",
            "text/plain": [
              "[1] 7464  432"
            ]
          },
          "metadata": {}
        }
      ]
    },
    {
      "cell_type": "code",
      "source": [
        "install.packages(\"summarytools\")"
      ],
      "metadata": {
        "colab": {
          "base_uri": "https://localhost:8080/"
        },
        "id": "Gx4w9WwpOJWk",
        "outputId": "bc449eed-598f-4e7f-ca8c-be7c3abb5681"
      },
      "execution_count": null,
      "outputs": [
        {
          "output_type": "stream",
          "name": "stderr",
          "text": [
            "Installing package into ‘/usr/local/lib/R/site-library’\n",
            "(as ‘lib’ is unspecified)\n",
            "\n",
            "also installing the dependency ‘magick’\n",
            "\n",
            "\n",
            "Warning message in install.packages(\"summarytools\"):\n",
            "“installation of package ‘magick’ had non-zero exit status”\n",
            "Warning message in install.packages(\"summarytools\"):\n",
            "“installation of package ‘summarytools’ had non-zero exit status”\n"
          ]
        }
      ]
    },
    {
      "cell_type": "code",
      "source": [
        "# Install and load necessary packages\n",
        "if (!require(\"ggplot2\")) install.packages(\"ggplot2\")\n",
        "library(ggplot2)\n",
        "\n",
        "# Assuming 'df' is your data frame and 'HISP_C' is a categorical variable\n",
        "ggplot(df, aes(x = HISP_C)) +\n",
        "  geom_bar() +  # Creates the bar graph\n",
        "  labs(title = \"Distribution of HISP_C\",  # Adds a title\n",
        "       x = \"HISP_C Category\",  # Labels the x-axis\n",
        "       y = \"Frequency\") +  # Labels the y-axis\n",
        "  theme(axis.text.x = element_text(angle = 45, hjust = 1))  # Rotates x-axis labels for better readability"
      ],
      "metadata": {
        "colab": {
          "base_uri": "https://localhost:8080/",
          "height": 628
        },
        "id": "nWy48dB3Qdqb",
        "outputId": "9db299fd-596e-4e72-f996-3952677724af"
      },
      "execution_count": null,
      "outputs": [
        {
          "output_type": "stream",
          "name": "stderr",
          "text": [
            "Loading required package: ggplot2\n",
            "\n",
            "\n",
            "Attaching package: ‘ggplot2’\n",
            "\n",
            "\n",
            "The following objects are masked from ‘package:psych’:\n",
            "\n",
            "    %+%, alpha\n",
            "\n",
            "\n"
          ]
        },
        {
          "output_type": "display_data",
          "data": {
            "text/plain": [
              "plot without title"
            ],
            "image/png": "[encoded data removed]"
          },
          "metadata": {
            "image/png": {
              "width": 420,
              "height": 420
            }
          }
        }
      ]
    },
    {
      "source": [
        "# Recode HISP_C and rename to Hispanic_r\n",
        "df$Hispanic_r <- ifelse(df$HISP_C == 1, 0, ifelse(df$HISP_C == 2, 1, df$HISP_C))\n",
        "\n",
        "# Print the first few rows to verify the changes\n",
        "head(df)"
      ],
      "cell_type": "code",
      "metadata": {
        "colab": {
          "base_uri": "https://localhost:8080/",
          "height": 306
        },
        "id": "NKZZAJ24Q7DZ",
        "outputId": "71068b40-c83b-41b7-f2ec-9c1a99f40cdd"
      },
      "execution_count": null,
      "outputs": [
        {
          "output_type": "display_data",
          "data": {
            "text/html": [
              "<table class=\"dataframe\">\n",
              "<caption>A tibble: 6 × 433</caption>\n",
              "<thead>\n",
              "\t<tr><th scope=col>URBRRL</th><th scope=col>RATCAT_C</th><th scope=col>INCTCFLG_C</th><th scope=col>IMPINCFLG_C</th><th scope=col>PPSU</th><th scope=col>PSTRAT</th><th scope=col>HISPALLP_C</th><th scope=col>RACEALLP_C</th><th scope=col>SDQIMPTOT_C</th><th scope=col>SDQTOT_C</th><th scope=col>⋯</th><th scope=col>HHSTAT_C</th><th scope=col>INTV_MON</th><th scope=col>RECTYPE</th><th scope=col>IMPNUM_C</th><th scope=col>RELCHPARENTP1_C</th><th scope=col>RELCHPARENTP2_C</th><th scope=col>WTFA_C</th><th scope=col>HHX</th><th scope=col>POVRATTC_C</th><th scope=col>Hispanic_r</th></tr>\n",
              "\t<tr><th scope=col>&lt;dbl&gt;</th><th scope=col>&lt;dbl&gt;</th><th scope=col>&lt;dbl&gt;</th><th scope=col>&lt;dbl&gt;</th><th scope=col>&lt;dbl&gt;</th><th scope=col>&lt;dbl&gt;</th><th scope=col>&lt;dbl&gt;</th><th scope=col>&lt;dbl&gt;</th><th scope=col>&lt;dbl&gt;</th><th scope=col>&lt;dbl&gt;</th><th scope=col>⋯</th><th scope=col>&lt;dbl&gt;</th><th scope=col>&lt;dbl&gt;</th><th scope=col>&lt;dbl&gt;</th><th scope=col>&lt;dbl&gt;</th><th scope=col>&lt;dbl&gt;</th><th scope=col>&lt;dbl&gt;</th><th scope=col>&lt;dbl&gt;</th><th scope=col>&lt;chr&gt;</th><th scope=col>&lt;dbl&gt;</th><th scope=col>&lt;dbl&gt;</th></tr>\n",
              "</thead>\n",
              "<tbody>\n",
              "\t<tr><td>1</td><td>14</td><td>1</td><td>0</td><td>2</td><td>115</td><td>2</td><td>1</td><td>NA</td><td> 2</td><td>⋯</td><td>1</td><td>1</td><td>20</td><td>1</td><td>1</td><td>1</td><td>19296.837</td><td>H053192</td><td>11.00</td><td>1</td></tr>\n",
              "\t<tr><td>4</td><td> 4</td><td>0</td><td>0</td><td>3</td><td>122</td><td>2</td><td>1</td><td>NA</td><td> 3</td><td>⋯</td><td>1</td><td>1</td><td>20</td><td>1</td><td>1</td><td>4</td><td>19620.702</td><td>H040577</td><td> 1.07</td><td>1</td></tr>\n",
              "\t<tr><td>3</td><td>11</td><td>0</td><td>0</td><td>1</td><td>103</td><td>3</td><td>2</td><td>NA</td><td>NA</td><td>⋯</td><td>1</td><td>1</td><td>20</td><td>1</td><td>1</td><td>4</td><td> 8284.925</td><td>H033338</td><td> 3.66</td><td>1</td></tr>\n",
              "\t<tr><td>3</td><td>13</td><td>0</td><td>0</td><td>4</td><td>103</td><td>3</td><td>2</td><td> 2</td><td>15</td><td>⋯</td><td>1</td><td>1</td><td>20</td><td>1</td><td>1</td><td>4</td><td>10907.508</td><td>H028319</td><td> 4.55</td><td>1</td></tr>\n",
              "\t<tr><td>3</td><td> 2</td><td>0</td><td>0</td><td>2</td><td>103</td><td>3</td><td>2</td><td> 0</td><td> 8</td><td>⋯</td><td>1</td><td>1</td><td>20</td><td>1</td><td>1</td><td>4</td><td>24148.818</td><td>H001424</td><td> 0.56</td><td>1</td></tr>\n",
              "\t<tr><td>3</td><td>14</td><td>0</td><td>0</td><td>1</td><td>111</td><td>2</td><td>1</td><td>NA</td><td> 6</td><td>⋯</td><td>1</td><td>1</td><td>20</td><td>1</td><td>1</td><td>1</td><td> 2294.606</td><td>H004139</td><td> 6.18</td><td>1</td></tr>\n",
              "</tbody>\n",
              "</table>\n"
            ],
            "text/markdown": "\nA tibble: 6 × 433\n\n| URBRRL &lt;dbl&gt; | RATCAT_C &lt;dbl&gt; | INCTCFLG_C &lt;dbl&gt; | IMPINCFLG_C &lt;dbl&gt; | PPSU &lt;dbl&gt; | PSTRAT &lt;dbl&gt; | HISPALLP_C &lt;dbl&gt; | RACEALLP_C &lt;dbl&gt; | SDQIMPTOT_C &lt;dbl&gt; | SDQTOT_C &lt;dbl&gt; | ⋯ ⋯ | HHSTAT_C &lt;dbl&gt; | INTV_MON &lt;dbl&gt; | RECTYPE &lt;dbl&gt; | IMPNUM_C &lt;dbl&gt; | RELCHPARENTP1_C &lt;dbl&gt; | RELCHPARENTP2_C &lt;dbl&gt; | WTFA_C &lt;dbl&gt; | HHX &lt;chr&gt; | POVRATTC_C &lt;dbl&gt; | Hispanic_r &lt;dbl&gt; |\n|---|---|---|---|---|---|---|---|---|---|---|---|---|---|---|---|---|---|---|---|---|\n| 1 | 14 | 1 | 0 | 2 | 115 | 2 | 1 | NA |  2 | ⋯ | 1 | 1 | 20 | 1 | 1 | 1 | 19296.837 | H053192 | 11.00 | 1 |\n| 4 |  4 | 0 | 0 | 3 | 122 | 2 | 1 | NA |  3 | ⋯ | 1 | 1 | 20 | 1 | 1 | 4 | 19620.702 | H040577 |  1.07 | 1 |\n| 3 | 11 | 0 | 0 | 1 | 103 | 3 | 2 | NA | NA | ⋯ | 1 | 1 | 20 | 1 | 1 | 4 |  8284.925 | H033338 |  3.66 | 1 |\n| 3 | 13 | 0 | 0 | 4 | 103 | 3 | 2 |  2 | 15 | ⋯ | 1 | 1 | 20 | 1 | 1 | 4 | 10907.508 | H028319 |  4.55 | 1 |\n| 3 |  2 | 0 | 0 | 2 | 103 | 3 | 2 |  0 |  8 | ⋯ | 1 | 1 | 20 | 1 | 1 | 4 | 24148.818 | H001424 |  0.56 | 1 |\n| 3 | 14 | 0 | 0 | 1 | 111 | 2 | 1 | NA |  6 | ⋯ | 1 | 1 | 20 | 1 | 1 | 1 |  2294.606 | H004139 |  6.18 | 1 |\n\n",
            "text/latex": "A tibble: 6 × 433\n\\begin{tabular}{lllllllllllllllllllll}\n URBRRL & RATCAT\\_C & INCTCFLG\\_C & IMPINCFLG\\_C & PPSU & PSTRAT & HISPALLP\\_C & RACEALLP\\_C & SDQIMPTOT\\_C & SDQTOT\\_C & ⋯ & HHSTAT\\_C & INTV\\_MON & RECTYPE & IMPNUM\\_C & RELCHPARENTP1\\_C & RELCHPARENTP2\\_C & WTFA\\_C & HHX & POVRATTC\\_C & Hispanic\\_r\\\\\n <dbl> & <dbl> & <dbl> & <dbl> & <dbl> & <dbl> & <dbl> & <dbl> & <dbl> & <dbl> & ⋯ & <dbl> & <dbl> & <dbl> & <dbl> & <dbl> & <dbl> & <dbl> & <chr> & <dbl> & <dbl>\\\\\n\\hline\n\t 1 & 14 & 1 & 0 & 2 & 115 & 2 & 1 & NA &  2 & ⋯ & 1 & 1 & 20 & 1 & 1 & 1 & 19296.837 & H053192 & 11.00 & 1\\\\\n\t 4 &  4 & 0 & 0 & 3 & 122 & 2 & 1 & NA &  3 & ⋯ & 1 & 1 & 20 & 1 & 1 & 4 & 19620.702 & H040577 &  1.07 & 1\\\\\n\t 3 & 11 & 0 & 0 & 1 & 103 & 3 & 2 & NA & NA & ⋯ & 1 & 1 & 20 & 1 & 1 & 4 &  8284.925 & H033338 &  3.66 & 1\\\\\n\t 3 & 13 & 0 & 0 & 4 & 103 & 3 & 2 &  2 & 15 & ⋯ & 1 & 1 & 20 & 1 & 1 & 4 & 10907.508 & H028319 &  4.55 & 1\\\\\n\t 3 &  2 & 0 & 0 & 2 & 103 & 3 & 2 &  0 &  8 & ⋯ & 1 & 1 & 20 & 1 & 1 & 4 & 24148.818 & H001424 &  0.56 & 1\\\\\n\t 3 & 14 & 0 & 0 & 1 & 111 & 2 & 1 & NA &  6 & ⋯ & 1 & 1 & 20 & 1 & 1 & 1 &  2294.606 & H004139 &  6.18 & 1\\\\\n\\end{tabular}\n",
            "text/plain": [
              "  URBRRL RATCAT_C INCTCFLG_C IMPINCFLG_C PPSU PSTRAT HISPALLP_C RACEALLP_C\n",
              "1 1      14       1          0           2    115    2          1         \n",
              "2 4       4       0          0           3    122    2          1         \n",
              "3 3      11       0          0           1    103    3          2         \n",
              "4 3      13       0          0           4    103    3          2         \n",
              "5 3       2       0          0           2    103    3          2         \n",
              "6 3      14       0          0           1    111    2          1         \n",
              "  SDQIMPTOT_C SDQTOT_C ⋯ HHSTAT_C INTV_MON RECTYPE IMPNUM_C RELCHPARENTP1_C\n",
              "1 NA           2       ⋯ 1        1        20      1        1              \n",
              "2 NA           3       ⋯ 1        1        20      1        1              \n",
              "3 NA          NA       ⋯ 1        1        20      1        1              \n",
              "4  2          15       ⋯ 1        1        20      1        1              \n",
              "5  0           8       ⋯ 1        1        20      1        1              \n",
              "6 NA           6       ⋯ 1        1        20      1        1              \n",
              "  RELCHPARENTP2_C WTFA_C    HHX     POVRATTC_C Hispanic_r\n",
              "1 1               19296.837 H053192 11.00      1         \n",
              "2 4               19620.702 H040577  1.07      1         \n",
              "3 4                8284.925 H033338  3.66      1         \n",
              "4 4               10907.508 H028319  4.55      1         \n",
              "5 4               24148.818 H001424  0.56      1         \n",
              "6 1                2294.606 H004139  6.18      1         "
            ]
          },
          "metadata": {}
        }
      ]
    },
    {
      "source": [
        "# Install and load necessary packages\n",
        "if (!require(\"ggplot2\")) install.packages(\"ggplot2\")\n",
        "library(ggplot2)\n",
        "\n",
        "# Assuming 'df' is your data frame and 'Hispanic_r' is the recoded variable\n",
        "ggplot(df, aes(x = Hispanic_r)) +\n",
        "  geom_bar() +  # Creates the bar graph\n",
        "  labs(title = \"Distribution of Hispanic_r\",  # Adds a title\n",
        "       x = \"Hispanic_r Category\",  # Labels the x-axis\n",
        "       y = \"Frequency\") +  # Labels the y-axis\n",
        "  theme(axis.text.x = element_text(angle = 45, hjust = 1))  # Rotates x-axis labels (optional)"
      ],
      "cell_type": "code",
      "metadata": {
        "colab": {
          "base_uri": "https://localhost:8080/",
          "height": 437
        },
        "id": "utM6OvbXRzSD",
        "outputId": "31cc5f1d-76f4-4a75-cae9-60cc3a0a0789"
      },
      "execution_count": null,
      "outputs": [
        {
          "output_type": "display_data",
          "data": {
            "text/plain": [
              "plot without title"
            ],
            "image/png": "[encoded data removed]"
          },
          "metadata": {
            "image/png": {
              "width": 420,
              "height": 420
            }
          }
        }
      ]
    },
    {
      "source": [
        "# Install and load necessary packages\n",
        "if (!require(\"ggplot2\")) install.packages(\"ggplot2\")\n",
        "library(ggplot2)\n",
        "\n",
        "# Assuming 'df' is your data frame and 'Hispanic_r' is the recoded variable\n",
        "ggplot(df, aes(x = Hispanic_r)) +\n",
        "  geom_bar() +  # Creates the bar graph\n",
        "  labs(title = \"Distribution of Hispanic_r\",  # Adds a title\n",
        "       x = \"Hispanic_r Category\",  # Labels the x-axis\n",
        "       y = \"Frequency\") +  # Labels the y-axis\n",
        "  # Change x-axis labels\n",
        "  scale_x_discrete(labels = c(\"No\", \"Yes\")) +\n",
        "  theme(axis.text.x = element_text(angle = 45, hjust = 1))  # Rotates x-axis labels (optional)"
      ],
      "cell_type": "code",
      "metadata": {
        "colab": {
          "base_uri": "https://localhost:8080/",
          "height": 437
        },
        "id": "cYZqO-LESKpl",
        "outputId": "7ea6ca13-29b8-4319-9afe-3dbd8e3794fd"
      },
      "execution_count": null,
      "outputs": [
        {
          "output_type": "display_data",
          "data": {
            "text/plain": [
              "plot without title"
            ],
            "image/png": "[encoded data removed]"
          },
          "metadata": {
            "image/png": {
              "width": 420,
              "height": 420
            }
          }
        }
      ]
    }
  ]
}